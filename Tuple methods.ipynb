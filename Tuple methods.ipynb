{
 "cells": [
  {
   "cell_type": "code",
   "execution_count": 1,
   "metadata": {},
   "outputs": [
    {
     "name": "stdout",
     "output_type": "stream",
     "text": [
      "3\n"
     ]
    }
   ],
   "source": [
    "#python tuple methods\n",
    "#count()\n",
    "\n",
    "numbers = (5, 3, 4, 2, 4, 3, 2, 1, 2, 4)\n",
    "x = numbers.count(2)\n",
    "print(x)"
   ]
  },
  {
   "cell_type": "code",
   "execution_count": 2,
   "metadata": {},
   "outputs": [
    {
     "name": "stdout",
     "output_type": "stream",
     "text": [
      "1\n"
     ]
    }
   ],
   "source": [
    "# index()\n",
    "\n",
    "shoppinglist = ('maggi', 'tomato', 'pepper', 'beans', 'iron', 'tomato', 'indomie')\n",
    "x = shoppinglist.index('tomato')\n",
    "print(x)"
   ]
  },
  {
   "cell_type": "code",
   "execution_count": 5,
   "metadata": {},
   "outputs": [
    {
     "data": {
      "text/plain": [
       "12"
      ]
     },
     "execution_count": 5,
     "metadata": {},
     "output_type": "execute_result"
    }
   ],
   "source": [
    "#tuple()\n",
    "\n",
    "Y2 = (35, 29, 15, 56, 78, 89)\n",
    "len(Y2)\n",
    "\n",
    "\n",
    "#Max()\n",
    "\n",
    "T2 = ['kajol', 'asake', 'georg', 'eliel']\n",
    "max(T2)\n",
    "\n",
    "\n",
    "# min()\n",
    "\n",
    "T2 = (35, 46, 78, 89, 56, 34, 12, 19, 29)\n",
    "min(T2)"
   ]
  }
 ],
 "metadata": {
  "kernelspec": {
   "display_name": "base",
   "language": "python",
   "name": "python3"
  },
  "language_info": {
   "codemirror_mode": {
    "name": "ipython",
    "version": 3
   },
   "file_extension": ".py",
   "mimetype": "text/x-python",
   "name": "python",
   "nbconvert_exporter": "python",
   "pygments_lexer": "ipython3",
   "version": "3.9.7"
  },
  "orig_nbformat": 4,
  "vscode": {
   "interpreter": {
    "hash": "1f0a32300477477bf6cfa74c107652945eeb7105ef3ee18f10d1324a243752bf"
   }
  }
 },
 "nbformat": 4,
 "nbformat_minor": 2
}
