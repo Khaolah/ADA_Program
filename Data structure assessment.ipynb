{
 "cells": [
  {
   "cell_type": "code",
   "execution_count": 35,
   "metadata": {},
   "outputs": [
    {
     "name": "stdout",
     "output_type": "stream",
     "text": [
      "{'Data': {'Names': ['Pretty cynthia', 'Amaka disappoint', 'Nedu japan']}, 'Frontend': {'Names': ['john bellcat', 'jon doe', 'jon bellion', 'john doe']}, 'Product Design': {'Names': ['beja rat', 'doja cat', 'ada ada', 'dog catcher', 'pyhon ezege', 'bitrus beetroot']}}\n"
     ]
    }
   ],
   "source": [
    "# create a nested dictionary for students in different track\n",
    "# The chosen tracks are Data, Frontend and Product Design\n",
    "# removing duplicates from dictionaries\n",
    "# using the set() function\n",
    "Students = {\n",
    "    \"Data\" : {\"Names\": list(set(['Amaka disappoint', 'Nedu japan', 'Pretty cynthia', 'Nedu japan', 'Pretty cynthia', 'Pretty cynthia']))},\n",
    "    \"Frontend\" : {\"Names\" : list(set(['jon doe', 'john doe', 'john doe', 'jon bellion', 'jon bellion', 'john bellcat', 'jon doe']))},\n",
    "    \"Product Design\" : {\"Names\": list(set(['ada ada', 'pyhon ezege', 'dog catcher', 'bitrus beetroot', 'doja cat', 'beja rat']))}\n",
    "    }\n",
    "\n",
    "print(Students)\n"
   ]
  },
  {
   "cell_type": "code",
   "execution_count": 37,
   "metadata": {},
   "outputs": [
    {
     "data": {
      "text/plain": [
       "{'Data': {'Names': ['Pretty cynthia', 'Amaka disappoint', 'Nedu japan'],\n",
       "  'Scores': [100, 50, 86]},\n",
       " 'Frontend': {'Names': ['john bellcat', 'jon doe', 'jon bellion', 'john doe'],\n",
       "  'Scores': [120, 35, 22, 57]},\n",
       " 'Product Design': {'Names': ['beja rat',\n",
       "   'doja cat',\n",
       "   'ada ada',\n",
       "   'dog catcher',\n",
       "   'pyhon ezege',\n",
       "   'bitrus beetroot'],\n",
       "  'Scores': [110, 75, 40, 89, 67, 48]}}"
      ]
     },
     "execution_count": 37,
     "metadata": {},
     "output_type": "execute_result"
    }
   ],
   "source": [
    "# Add a new score key with values to the students dictionary\n",
    "\n",
    "Students[\"Data\"] [\"Scores\"] = [100, 50, 86]\n",
    "Students[\"Frontend\"] [\"Scores\"] = [120, 35, 22, 57,]\n",
    "Students[\"Product Design\"] [\"Scores\"] = [110, 75, 40, 89, 67, 48]\n",
    "# print updated students dictionary\n",
    "Students"
   ]
  },
  {
   "cell_type": "code",
   "execution_count": 57,
   "metadata": {},
   "outputs": [
    {
     "name": "stdout",
     "output_type": "stream",
     "text": [
      "The top students is: Pretty cynthia with score of 100 for Data Track\n",
      "The top students is: Pretty cynthia with score of 100 for Data Track\n",
      "The top students is: Pretty cynthia with score of 100 for Data Track\n"
     ]
    }
   ],
   "source": [
    "# Find the top students in each track\n",
    "# For Data track\n",
    "for Data in Students:\n",
    "    top_Score = max(Students['Data']['Scores'])\n",
    "    top_Students = [Students['Data']['Names'][i] for i, score in enumerate(Students['Data']['Scores']) if score == top_Score]\n",
    "    print(f\"The top students is: {', '.join(top_Students)} with score of {top_Score} for {'Data'} Track\")\n",
    "\n"
   ]
  },
  {
   "cell_type": "code",
   "execution_count": 54,
   "metadata": {},
   "outputs": [
    {
     "name": "stdout",
     "output_type": "stream",
     "text": [
      "The top students is: john bellcat with score of 120 for Frontend Track\n",
      "The top students is: john bellcat with score of 120 for Frontend Track\n",
      "The top students is: john bellcat with score of 120 for Frontend Track\n"
     ]
    }
   ],
   "source": [
    "# for Frontend track\n",
    "for Frontend in Students:\n",
    "    top_Score = max(Students['Frontend']['Scores'])\n",
    "    top_Students = [Students['Frontend']['Names'][i] for i, score in enumerate(Students['Frontend']['Scores']) if score == top_Score]\n",
    "    print(f\"The top students is: {', '.join(top_Students)} with score of {top_Score} for {'Frontend'} Track\")"
   ]
  },
  {
   "cell_type": "code",
   "execution_count": 56,
   "metadata": {},
   "outputs": [
    {
     "name": "stdout",
     "output_type": "stream",
     "text": [
      "The top students is: beja rat with score of 110 for Product Design Track\n",
      "The top students is: beja rat with score of 110 for Product Design Track\n",
      "The top students is: beja rat with score of 110 for Product Design Track\n"
     ]
    }
   ],
   "source": [
    "# For Product Design track\n",
    "for Product_Design in Students:\n",
    "    top_Score = max(Students['Product Design']['Scores'])\n",
    "    top_Students = [Students['Product Design']['Names'][i] for i, score in enumerate(Students['Product Design']['Scores']) if score == top_Score]\n",
    "    print(f\"The top students is: {', '.join(top_Students)} with score of {top_Score} for {'Product Design'} Track\")"
   ]
  }
 ],
 "metadata": {
  "kernelspec": {
   "display_name": "Python 3",
   "language": "python",
   "name": "python3"
  },
  "language_info": {
   "codemirror_mode": {
    "name": "ipython",
    "version": 3
   },
   "file_extension": ".py",
   "mimetype": "text/x-python",
   "name": "python",
   "nbconvert_exporter": "python",
   "pygments_lexer": "ipython3",
   "version": "3.11.1"
  },
  "orig_nbformat": 4,
  "vscode": {
   "interpreter": {
    "hash": "1f6a27bcfbe46a917dbd192f4a82657396dda26148bae633192e8d28c70725f1"
   }
  }
 },
 "nbformat": 4,
 "nbformat_minor": 2
}
